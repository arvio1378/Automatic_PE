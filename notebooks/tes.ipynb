{
 "cells": [
  {
   "cell_type": "code",
   "execution_count": 1,
   "id": "1fdadaeb",
   "metadata": {},
   "outputs": [],
   "source": [
    "from netmiko import ConnectHandler\n",
    "import time\n",
    "from dotenv import load_dotenv\n",
    "import os\n",
    "load_dotenv()\n",
    "import pandas as pd"
   ]
  },
  {
   "cell_type": "code",
   "execution_count": 8,
   "id": "1a4745df",
   "metadata": {},
   "outputs": [
    {
     "data": {
      "text/html": [
       "<div>\n",
       "<style scoped>\n",
       "    .dataframe tbody tr th:only-of-type {\n",
       "        vertical-align: middle;\n",
       "    }\n",
       "\n",
       "    .dataframe tbody tr th {\n",
       "        vertical-align: top;\n",
       "    }\n",
       "\n",
       "    .dataframe thead th {\n",
       "        text-align: right;\n",
       "    }\n",
       "</style>\n",
       "<table border=\"1\" class=\"dataframe\">\n",
       "  <thead>\n",
       "    <tr style=\"text-align: right;\">\n",
       "      <th></th>\n",
       "      <th>nama</th>\n",
       "    </tr>\n",
       "  </thead>\n",
       "  <tbody>\n",
       "    <tr>\n",
       "      <th>0</th>\n",
       "      <td>PE-D1-BDS-TRANSIT</td>\n",
       "    </tr>\n",
       "    <tr>\n",
       "      <th>1</th>\n",
       "      <td>PE-D1-BNA-TRANSIT</td>\n",
       "    </tr>\n",
       "  </tbody>\n",
       "</table>\n",
       "</div>"
      ],
      "text/plain": [
       "                nama\n",
       "0  PE-D1-BDS-TRANSIT\n",
       "1  PE-D1-BNA-TRANSIT"
      ]
     },
     "execution_count": 8,
     "metadata": {},
     "output_type": "execute_result"
    }
   ],
   "source": [
    "astinet_PE = pd.read_csv(\"../data/astinet.csv\")\n",
    "astinet_PE.head()"
   ]
  },
  {
   "cell_type": "code",
   "execution_count": 7,
   "id": "dff7ffd3",
   "metadata": {},
   "outputs": [
    {
     "name": "stdout",
     "output_type": "stream",
     "text": [
      "Login ke host awal sukses: >\n"
     ]
    }
   ],
   "source": [
    "device = {\n",
    "    \"device_type\": \"huawei\",   # sesuaikan dengan OS device awal\n",
    "    \"host\": \"10.60.190.15\",\n",
    "    \"username\": os.getenv(\"HOST_USERNAME\"),\n",
    "    \"password\": os.getenv(\"HOST_PASSWORD\"),\n",
    "}\n",
    "connection = ConnectHandler(**device)\n",
    "\n",
    "print(\"Login ke host awal sukses:\", connection.find_prompt())"
   ]
  },
  {
   "cell_type": "code",
   "execution_count": null,
   "id": "03c038ff",
   "metadata": {},
   "outputs": [
    {
     "name": "stdout",
     "output_type": "stream",
     "text": [
      "ssh PE3-D2-CKA-TRANSIT\n",
      "\n",
      "             !!!! WARNING !!!!\n",
      "        This Node is the property of\n",
      "            PT.TELKOM INDONESIA\n",
      "         All actions are monitored\n",
      "      Unauthorized access is prohibited\n",
      "         Violators will be prosecuted\n",
      "\n",
      "*********************************************\n",
      "\n",
      "  NODE NAME     : PE3-D2-CKA-TRANSIT\n",
      "  TYPE          : NE9000-8\n",
      "  LOCATION      : STO Cikupa\n",
      "  ADDRESS       : PT Telkom Cikupa  Ps. Cikupa, Jl. Raya Serang No.74, Cikupa, Kec. Cikupa, Tangerang, Banten 15710\n",
      "  PIC           : Susanto\n",
      "  PHONE         : 08111733088\n",
      "\n",
      "*********************************************\n",
      "User Authentication\n",
      "\n",
      "Enter password:\n",
      "\n",
      "\n",
      "Warning: Negotiated key exchange algorithm and identity key for server authentication are not safe. It is recommended that you disable the insecure algorithm or upgrade the client.\n",
      "\n",
      "Info: The max number of VTY users is 15, the number of current VTY users online is 4, and total number of terminal users online is 4.\n",
      "      The current login time is 2025-08-25 12:45:10+07:00.\n",
      "Info: The device is not enabled with secure boot, please enable it.\n",
      "<PE3-D2-CKA-TRANSIT>\n",
      "Sekarang prompt: <PE3-D2-CKA-TRANSIT>\n"
     ]
    }
   ],
   "source": [
    "# Step 2: Kirim ssh command (pakai send_command_timing supaya tidak error pattern)\n",
    "output = connection.send_command_timing(\"ssh PE3-D2-CKA-TRANSIT\", strip_prompt=False, strip_command=False)\n",
    "print(output)\n",
    "\n",
    "# Step 3: Kalau output minta password, kirim password\n",
    "if \"assword\" in output:   # cover \"Password:\" / \"password:\" / \"Please input the password:\"\n",
    "    output2 = connection.send_command_timing(os.getenv(\"PE_PASSWORD\"), strip_prompt=False, strip_command=False)\n",
    "    print(output2)\n",
    "\n",
    "# Step 4: Tunggu bentar biar prompt muncul stabil\n",
    "time.sleep(2)\n",
    "print(\"Sekarang prompt:\", connection.find_prompt())"
   ]
  },
  {
   "cell_type": "code",
   "execution_count": 5,
   "id": "f99fae0c",
   "metadata": {},
   "outputs": [
    {
     "name": "stdout",
     "output_type": "stream",
     "text": [
      "#\n",
      "interface GigabitEthernet6/0/2.3697\n",
      " vlan-type dot1q 3697\n",
      " bandwidth 150\n",
      " description 2076307160 MM_ASTINET PT MITRA KOLEKSI MANDIRI JL MH THAMRIN KM 2, RT 03/002, PANUNGGANGAN UTARA, PINANG|\n",
      " ip binding vpn-instance Astinet_Mix\n",
      " ip address 36.95.157.57 255.255.255.248\n",
      " statistic enable\n",
      " qos-profile 150M inbound identifier none \n",
      " qos-profile 150M outbound identifier none \n",
      "#\n",
      "return\n"
     ]
    }
   ],
   "source": [
    "interface = \"GigabitEthernet6/0/2.3697\"\n",
    "output = connection.send_command(f\"dis cur int {interface}\")\n",
    "print(output)"
   ]
  },
  {
   "cell_type": "code",
   "execution_count": null,
   "id": "46d32292",
   "metadata": {},
   "outputs": [
    {
     "name": "stdout",
     "output_type": "stream",
     "text": [
      "Sekarang prompt: <PE3-D2-CKA-TRANSIT>\n"
     ]
    }
   ],
   "source": [
    "# commands = [\n",
    "#     f\"interface {interface}\",\n",
    "#     \"description 2076307160 MM_ASTINET PT MITRA KOLEKSI MANDIRI JL MH THAMRIN KM 2, RT 03/002, PANUNGGANGAN UTARA, PINANG| (SUSPEND)\",\n",
    "#     \"shutdown\",\n",
    "#     \"commit\",\n",
    "#     \"q\",\n",
    "#     \"q\"\n",
    "# ]\n",
    "\n",
    "# suspend = connection.send_config_set(commands)\n",
    "# print(\"Sekarang prompt:\", connection.find_prompt())"
   ]
  }
 ],
 "metadata": {
  "kernelspec": {
   "display_name": "PE",
   "language": "python",
   "name": "python3"
  },
  "language_info": {
   "codemirror_mode": {
    "name": "ipython",
    "version": 3
   },
   "file_extension": ".py",
   "mimetype": "text/x-python",
   "name": "python",
   "nbconvert_exporter": "python",
   "pygments_lexer": "ipython3",
   "version": "3.11.0"
  }
 },
 "nbformat": 4,
 "nbformat_minor": 5
}
